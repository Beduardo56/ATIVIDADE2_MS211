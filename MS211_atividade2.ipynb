{
 "cells": [
  {
   "cell_type": "code",
   "execution_count": 1,
   "metadata": {},
   "outputs": [],
   "source": [
    "import pandas as pd\n",
    "import numpy as np \n",
    "import matplotlib.pyplot as plt "
   ]
  },
  {
   "cell_type": "code",
   "execution_count": 2,
   "metadata": {},
   "outputs": [],
   "source": [
    "def eq_log(y:float, r:float= 0.5, K:int =10):\n",
    "    '''f(t,y) a ser utilizada nos metodos de range kutta'''\n",
    "    return   r* y* (1-(y / K))"
   ]
  },
  {
   "cell_type": "code",
   "execution_count": 3,
   "metadata": {},
   "outputs": [],
   "source": [
    "def metodo_de_euler(func,intervalo: list, h:float, y0:int, r:float= 0.5, K:int =10)->pd.DataFrame:\n",
    "    '''Dado um intervalo contendo pontos espaçados uniformemente de h,\n",
    "    calcula-se a aproximação numérica da equação logistica para cada ponto pelo metodo de euler'''\n",
    "    \n",
    "    # define um vetor de derivadas\n",
    "    derivadas = []\n",
    "    # adiciona y0 como o primeiro componente do vetor\n",
    "    derivadas.append(y0)\n",
    "    # define y_k com seu valor inicial\n",
    "    y_k = y0\n",
    "    \n",
    "    # Vamos fazer um loop passando por todos os pontos do intervalo de acordo com o passo passado\n",
    "    # ao ponto que calculamos a derivada em cada ponto\n",
    "    for tempo in np.arange(intervalo[0], intervalo[1], h):\n",
    "        # calcula a derivada no ponto utilizando a formula de euler(sem a dependencia do tempo).\n",
    "        y_k = y_k + h*func(y_k,r=r,K=K)\n",
    "        # adiciona a derivada no vetor de derivadas\n",
    "        derivadas.append(y_k)\n",
    "\n",
    "    # retorna um dataframe contendo o ponto e a sua derivada calculada\n",
    "    return pd.DataFrame(derivadas, index= np.arange(intervalo[0],intervalo[1]+ h,h))"
   ]
  },
  {
   "cell_type": "code",
   "execution_count": 4,
   "metadata": {},
   "outputs": [],
   "source": [
    "def solucao_analitica(intervalo:list, y:float,h:float, r:float= 0.5, K:int =10)->pd.DataFrame:\n",
    "    '''a função a seguir devolve um Dataframe contendo a solução analitica da equação logistica\n",
    "    em cada ponto de um dado intervalo espaçado de h'''\n",
    "    # define o vetor de derivadas\n",
    "    derivadas = []\n",
    "    \n",
    "    # Vamos fazer um loop passando por todos os pontos do intervalo, e calculando assim a derivada em cada ponto\n",
    "    for tempo in np.arange(intervalo[0], intervalo[1] + h, h):\n",
    "        # calcula o da derivada no ponto t pela função analitica dada no enunciado\n",
    "        y_k = (y*K*np.exp(r*tempo)) / (K + y*(np.exp(r*tempo) - 1))\n",
    "        # adiciona o novo y_k no vetor de derivadas\n",
    "        derivadas.append(y_k)\n",
    "    \n",
    "    # retorna um dataframe contendo o ponto e a sua derivada calculada\n",
    "    return pd.DataFrame(derivadas, np.arange(intervalo[0], intervalo[1] + h, h) )"
   ]
  },
  {
   "cell_type": "code",
   "execution_count": 5,
   "metadata": {},
   "outputs": [],
   "source": [
    "def range_kutta_4(func,intervalo: list, h:float, y0:int, r:float= 0.5, K:int =10)->pd.DataFrame:\n",
    "    '''Dado um intervalo contendo pontos espaçados uniformemente de h,\n",
    "    calcula-se a aproximação numérica da equação logistica\n",
    "    para cada ponto pelo metodo de de range-kutta de 4 ordem'''\n",
    "    derivadas = []\n",
    "    \n",
    "    # adiciona ao vetor devivadas o valor de y0 e inicia y_k com este valor\n",
    "    derivadas.append(y0)\n",
    "    y_k = y0\n",
    "    # Vamos fazer um loop passando por todos os pontos do intervalo, e calculando assim a derivada em cada ponto\n",
    "    for i in np.arange(intervalo[0],intervalo[1],h):\n",
    "        # definindo as constantes k1,k2,k3,k4 para o calculo da função iterativa\n",
    "        k1 = func(y_k, r=r, K=K)\n",
    "        k2 = func(y_k + k1 * h/2,r=r, K=K)\n",
    "        k3 = func(y_k+ k2 * h/2,r=r, K=K)\n",
    "        k4 = func(y_k + h*k3, r=r, K=K)\n",
    "        # calculo do novo y_k\n",
    "        y_k = y_k + (h/6)*(k1 + 2*k2 + 2*k3 + k4)\n",
    "        # adiciona o novo y_k no vetor de derivadas\n",
    "        derivadas.append(y_k)\n",
    "    # retorna um dataframe contendo o ponto e a sua derivada calculada\n",
    "    return pd.DataFrame(derivadas, index= np.arange(intervalo[0],intervalo[1]+ h,h))"
   ]
  },
  {
   "cell_type": "markdown",
   "metadata": {},
   "source": [
    "### Questão A"
   ]
  },
  {
   "cell_type": "code",
   "execution_count": 6,
   "metadata": {},
   "outputs": [],
   "source": [
    "# define valores para o  intervalo o alpha e o beta (de acordo com o enunciado) 𝑟 = 0.5, 𝐾 = 10, ℎ = 0.05 e\n",
    "# 𝑦0 = 1\n",
    "intervalo =[0, 4]\n",
    "r = 0.05\n",
    "K = 10\n",
    "h = 0.05\n",
    "y0 = 1"
   ]
  },
  {
   "cell_type": "code",
   "execution_count": 7,
   "metadata": {},
   "outputs": [],
   "source": [
    "# cria um dataframe contendo a solução numérica usando o metodo de Euler\n",
    "lista_pelo_metodo_de_euler = metodo_de_euler(eq_log,intervalo,h,y0,r,K)"
   ]
  },
  {
   "cell_type": "code",
   "execution_count": 8,
   "metadata": {},
   "outputs": [],
   "source": [
    "# cria um dataframe contendo a solução numérica usando o metodo de RK4\n",
    "lista_por_rk4 = range_kutta_4(eq_log,intervalo,h,y0,r,K)"
   ]
  },
  {
   "cell_type": "code",
   "execution_count": 9,
   "metadata": {},
   "outputs": [],
   "source": [
    "# cria um dataframe contendo a solução analítica\n",
    "lista_pela_solução = solucao_analitica(intervalo,y0,h,r,K)"
   ]
  },
  {
   "cell_type": "markdown",
   "metadata": {},
   "source": [
    "##### As próximas 3 celulas juntam os 3 dataframes anteriores"
   ]
  },
  {
   "cell_type": "code",
   "execution_count": 10,
   "metadata": {},
   "outputs": [],
   "source": [
    "tabela_final = pd.merge(lista_pela_solução,lista_pelo_metodo_de_euler,left_index=True,right_index=True)"
   ]
  },
  {
   "cell_type": "code",
   "execution_count": 11,
   "metadata": {},
   "outputs": [],
   "source": [
    "tabela_final = pd.merge(tabela_final,lista_por_rk4,left_index=True,right_index=True)"
   ]
  },
  {
   "cell_type": "code",
   "execution_count": 12,
   "metadata": {},
   "outputs": [],
   "source": [
    "tabela_final = tabela_final.rename(columns = {'0_x':'sol_analitica','0_y':'euler',0:'RK-4'})"
   ]
  },
  {
   "cell_type": "code",
   "execution_count": 13,
   "metadata": {},
   "outputs": [],
   "source": [
    "# calcula o erro local real\n",
    "tabela_final['Erro_Euler'] = abs(tabela_final.sol_analitica - tabela_final.euler)\n",
    "tabela_final['Erro_RK4'] = abs(tabela_final.sol_analitica - tabela_final['RK-4'])"
   ]
  },
  {
   "cell_type": "code",
   "execution_count": 14,
   "metadata": {},
   "outputs": [
    {
     "data": {
      "image/png": "[encoded data removed]",
      "text/plain": [
       "<Figure size 432x288 with 1 Axes>"
      ]
     },
     "metadata": {
      "needs_background": "light"
     },
     "output_type": "display_data"
    }
   ],
   "source": [
    "# plota os pontos calculados pelos metodos de RK4 e Euler e seus respectivos erros\n",
    "plt.figure()\n",
    "plt.plot(tabela_final.index,tabela_final.sol_analitica,'b-',label= 'solução analitica')\n",
    "plt.plot(tabela_final.index,tabela_final.euler,'r-',label= 'metodo de euler')\n",
    "plt.plot(tabela_final.index,tabela_final['RK-4'],'g-',label= 'range kutta 4')\n",
    "plt.plot(tabela_final.index,tabela_final['Erro_RK4'],'y-',label= 'Erro do RK4')\n",
    "plt.plot(tabela_final.index,tabela_final['Erro_Euler'],'c-',label= 'Erro de Euler')\n",
    "\n",
    "\n",
    "plt.legend(loc='best')\n",
    "plt.savefig('diferenca.png')\n",
    "plt.show()"
   ]
  },
  {
   "cell_type": "code",
   "execution_count": null,
   "metadata": {},
   "outputs": [],
   "source": [
    "\n",
    "    "
   ]
  }
 ],
 "metadata": {
  "kernelspec": {
   "display_name": "Python 3",
   "language": "python",
   "name": "python3"
  },
  "language_info": {
   "codemirror_mode": {
    "name": "ipython",
    "version": 3
   },
   "file_extension": ".py",
   "mimetype": "text/x-python",
   "name": "python",
   "nbconvert_exporter": "python",
   "pygments_lexer": "ipython3",
   "version": "3.7.1"
  }
 },
 "nbformat": 4,
 "nbformat_minor": 2
}
