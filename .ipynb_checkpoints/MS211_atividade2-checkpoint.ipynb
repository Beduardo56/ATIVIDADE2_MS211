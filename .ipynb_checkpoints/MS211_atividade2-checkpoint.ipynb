{
 "cells": [
  {
   "cell_type": "code",
   "execution_count": 1,
   "metadata": {},
   "outputs": [],
   "source": [
    "import math\n",
    "import pandas as pd\n",
    "import numpy as np \n",
    "import matplotlib.pyplot as plt "
   ]
  },
  {
   "cell_type": "markdown",
   "metadata": {},
   "source": [
    "### Questão A"
   ]
  },
  {
   "cell_type": "code",
   "execution_count": 2,
   "metadata": {},
   "outputs": [],
   "source": [
    "# define valores para o  intervalo o alpha e o beta (de acordo com o enunciado)\n",
    "intervalo = np.arange(-10,10,0.01)\n",
    "alpha = 0.2\n",
    "beta = 2"
   ]
  },
  {
   "cell_type": "code",
   "execution_count": 3,
   "metadata": {},
   "outputs": [],
   "source": [
    "# criando os vetores de y a partir do intervalo\n",
    "valores_de_y  = (np.exp(intervalo * alpha ) - np.exp(intervalo*(alpha-1)))\n",
    "                - beta * np.ones(len(intervalo)) "
   ]
  },
  {
   "cell_type": "code",
   "execution_count": 4,
   "metadata": {},
   "outputs": [
    {
     "data": {
      "image/png": "[encoded data removed]",
      "text/plain": [
       "<Figure size 432x288 with 1 Axes>"
      ]
     },
     "metadata": {
      "needs_background": "light"
     },
     "output_type": "display_data"
    }
   ],
   "source": [
    "# plota um grafico da função de Butler-Volmer com limitação no eixo das ordenadas\n",
    "(entre -1 e 1).\n",
    "fig = plt.figure()\n",
    "ax = plt.subplot(111)\n",
    "ax.plot(intervalo,valores_de_y,color='red')\n",
    "ax.set_ylim([0,2])\n",
    "ax.grid(True)\n",
    "plt.show()"
   ]
  },
  {
   "cell_type": "markdown",
   "metadata": {},
   "source": [
    "### RESPOSTA:\n",
    "    Da figura acima  podemos afirmar que contem um zero entre o intervalo [2,5]"
   ]
  },
  {
   "cell_type": "markdown",
   "metadata": {},
   "source": [
    "### Questão B"
   ]
  },
  {
   "cell_type": "code",
   "execution_count": 5,
   "metadata": {},
   "outputs": [],
   "source": [
    "# criação de funções que calculam o valor da equação de Butler-Volmer\n",
    "# e sua derivada em um determinado ponto.\n",
    "\n",
    "def eq_butler_volmer(valor_de_x:float,\n",
    "                     alpha:float = 0.2,\n",
    "                     beta:int = 2) -> float:\n",
    "    '''\n",
    "    Dado um valor_de_x qualquer,\n",
    "    calcula-se  a imagem da equação de Butler/Volmer nesse ponto.\n",
    "    '''\n",
    "    valor_de_y  = math.exp(valor_de_x * alpha)\n",
    "                - math.exp(valor_de_x*(alpha-1)) - beta\n",
    "    \n",
    "    return valor_de_y\n",
    "\n",
    "\n",
    "def derivada_eq_butler_volmer(valor_de_x:int, alpha:float = 0.2) -> float:\n",
    "    '''\n",
    "    Dado um valor_de_x qualquer,\n",
    "    calcula-se a imagem da derivada equação de Butler/Volmer nesse ponto.\n",
    "    '''\n",
    "    valor_de_y  = (alpha) * math.exp(valor_de_x * alpha )\n",
    "                - (alpha-1) * math.exp(valor_de_x*(alpha-1))\n",
    "    \n",
    "    return valor_de_y"
   ]
  },
  {
   "cell_type": "markdown",
   "metadata": {},
   "source": [
    "##### Método da bissecção"
   ]
  },
  {
   "cell_type": "code",
   "execution_count": 16,
   "metadata": {},
   "outputs": [],
   "source": [
    "# define a função que calculara o valor de y dado um x\n",
    "def metodo_da_bissecção(intervalo_inicial: list,\n",
    "                        criterio_de_parada: float= 0.01,\n",
    "                        max_iter: int=1000) -> (list,int):\n",
    "    '''\n",
    "    Dado um intervalo_inicial,\n",
    "    calcula-se o zero da  equação de Butler-Volmer\n",
    "    de acordo com o metodo da bissecção\n",
    "    \n",
    "    obs: os valores do criterios de parada \n",
    "    e o numero maximo de iterações são \n",
    "    pre-definidos como 0.01 e 1000,\n",
    "    respectivamente.\n",
    "    \n",
    "    '''\n",
    "    # pre-define as configurações iniciais das variaveis a serem utilizadas \n",
    "    intervalo = intervalo_inicial\n",
    "    num_iter = 0\n",
    "    a,b = intervalo[0],intervalo[1]\n",
    "    \n",
    "    # loop principal\n",
    "    while  (num_iter < max_iter): \n",
    "        # verifica se o criterio de para foi satisfeito, se nao foi, faz masi uma iteração.\n",
    "        if ((b - a)/ b > criterio_de_parada) :\n",
    "            num_iter += 1\n",
    "            candidata = (a+b) / 2\n",
    "            if np.sign(eq_butler_volmer(a)\n",
    "                       * eq_butler_volmer(candidata)) == -1:\n",
    "                a,b = a,candidata\n",
    "            elif np.sign(eq_butler_volmer(a)\n",
    "                         * eq_butler_volmer(candidata)) == 1:\n",
    "                a,b = candidata,b\n",
    "        # se o criterio de parada foi satisfeito, ele interrompe o loop\n",
    "        else:\n",
    "            max_iter = num_iter\n",
    "    intervalo = list((a,b))\n",
    "    \n",
    "    return np.mean(intervalo),num_iter"
   ]
  },
  {
   "cell_type": "markdown",
   "metadata": {},
   "source": [
    "##### Método de Newton"
   ]
  },
  {
   "cell_type": "code",
   "execution_count": 19,
   "metadata": {},
   "outputs": [],
   "source": [
    "def metodo_de_newton(\n",
    "                        valor_inicial: float,\n",
    "                        epsilon_1: float=0.01,\n",
    "                        epsilon_2: float=0.01,\n",
    "                        max_iter:int= 1000\n",
    "    ) -> int :\n",
    "    '''\n",
    "    Dado um valor_inicial, calcula-se o zero da  equação de Butler-Volmer\n",
    "    de acordo com o metodo de newton\n",
    "    \n",
    "    obs: os valores de epsilon 1 e 2  \n",
    "    e o numero maximo de iterações são pre-definidos como 0.01, 0,01 e 1000,\n",
    "    respectivamente.\n",
    "    \n",
    "    '''\n",
    "    # verifica se o valor inicial ja é a candidata a solução\n",
    "    if abs(eq_butler_volmer(valor_inicial)) < epsilon_1:\n",
    "        return (valor_inicial,0)\n",
    "    # configura as variaves do loop com suas condições iniciais \n",
    "    candidata = valor_inicial\n",
    "    num_iter=0\n",
    "    valor_anterior = 0\n",
    "    \n",
    "    #loop principal\n",
    "    while   (num_iter < max_iter): \n",
    "        #  se as condições iniciais foram satisfeitas,\n",
    "        #  se nao foram, faz mais uma iteração\n",
    "        if((candidata - valor_anterior) / candidata > epsilon_2)\n",
    "                or (eq_butler_volmer(candidata) > epsilon_1):\n",
    "            valor_anterior = candidata\n",
    "            candidata = valor_anterior - (eq_butler_volmer(valor_anterior)\n",
    "                                          / derivada_eq_butler_volmer(valor_anterior))\n",
    "            num_iter += 1\n",
    "        # se as condições iniciais foram satisfeitas, interrompe o loop\n",
    "        else:\n",
    "            max_iter = num_iter\n",
    "            \n",
    "    return candidata,num_iter           "
   ]
  },
  {
   "cell_type": "code",
   "execution_count": 17,
   "metadata": {},
   "outputs": [
    {
     "data": {
      "text/plain": [
       "(3.603515625, 7)"
      ]
     },
     "execution_count": 17,
     "metadata": {},
     "output_type": "execute_result"
    }
   ],
   "source": [
    "# teste da metodo_da_bissecção\n",
    "metodo_da_bissecção([2.5,5])"
   ]
  },
  {
   "cell_type": "code",
   "execution_count": 21,
   "metadata": {},
   "outputs": [
    {
     "data": {
      "text/plain": [
       "7.139924207422155e-10"
      ]
     },
     "execution_count": 21,
     "metadata": {},
     "output_type": "execute_result"
    }
   ],
   "source": [
    "eq_butler_volmer(3.6037324507520503)"
   ]
  },
  {
   "cell_type": "code",
   "execution_count": 20,
   "metadata": {},
   "outputs": [
    {
     "data": {
      "text/plain": [
       "(3.6037324507520503, 3)"
      ]
     },
     "execution_count": 20,
     "metadata": {},
     "output_type": "execute_result"
    }
   ],
   "source": [
    "# teste para o metodo_de_newton\n",
    "metodo_de_newton(2)"
   ]
  },
  {
   "cell_type": "markdown",
   "metadata": {},
   "source": [
    "### Questão C"
   ]
  },
  {
   "cell_type": "code",
   "execution_count": 11,
   "metadata": {},
   "outputs": [],
   "source": [
    "# funções geradoras de tabela\n",
    "def gera_tabela_bissec(rangea: list, rangeb: list, passo: float=1) -> pd.DataFrame:\n",
    "    '''\n",
    "    Dado duas listas, rangea e rangeb,\n",
    "    as quais representam os valores dos pontos iniciais do metodo de bissecção,\n",
    "    se produz tabelas contendo o resultado da concatenação\n",
    "    dos possiveis valores de rangea e rangeb\n",
    "    obs:o passo das lista é pre-definido como sendo 1     \n",
    "    '''\n",
    "    # pre-define os valores iniciais das variaveis\n",
    "    range_a = np.arange(rangea[0] , rangea[1], -passo)\n",
    "    range_b = np.arange(rangeb[0],rangeb[1], passo)\n",
    "    dataframe_final = pd.DataFrame()\n",
    "    \n",
    "    #loop inicial\n",
    "    for a in range_a:\n",
    "        for b in range_b:\n",
    "            media, iterações = 0,0\n",
    "            media, iterações = metodo_da_bissecção([a,b])\n",
    "            row = pd.DataFrame([a,b,media,iterações],\n",
    "                               index = ['a','b','media','iterações'])\n",
    "            dataframe_final = dataframe_final.append(row.T,\n",
    "                                                     ignore_index = True)\n",
    "\n",
    "    return dataframe_final\n",
    "def gera_tabela_newton(rangea:list, passo:int = 1) -> pd.DataFrame:\n",
    "    '''\n",
    "    Dado um rangea inicial,\n",
    "    ao qual contem os possiveis valores iniciais do metodo de newton,\n",
    "    se produz uma tabela contendo o valor inicial ,\n",
    "    o resultado e o numero de iterações\n",
    "    \n",
    "    obs: o valor do passo da lista é pre-definido como sendo 1\n",
    "    \n",
    "    '''\n",
    "    # pre-define os valores iniciais das variaveis alem de criar uma lista vazia\n",
    "    range_a = np.arange(rangea[0],rangea[1],passo)\n",
    "    dataframe_final = pd.DataFrame()\n",
    "    \n",
    "    # loop inicial\n",
    "    for x in range_a:\n",
    "        media, iteração = metodo_de_newton(x)\n",
    "        row = pd.DataFrame([x,media,iteração],index=['x','media','iteração'])\n",
    "        dataframe_final = dataframe_final.append(row.T,ignore_index = True)\n",
    "\n",
    "    return dataframe_final     "
   ]
  },
  {
   "cell_type": "code",
   "execution_count": 12,
   "metadata": {},
   "outputs": [
    {
     "data": {
      "text/html": [
       "<div>\n",
       "<style scoped>\n",
       "    .dataframe tbody tr th:only-of-type {\n",
       "        vertical-align: middle;\n",
       "    }\n",
       "\n",
       "    .dataframe tbody tr th {\n",
       "        vertical-align: top;\n",
       "    }\n",
       "\n",
       "    .dataframe thead th {\n",
       "        text-align: right;\n",
       "    }\n",
       "</style>\n",
       "<table border=\"1\" class=\"dataframe\">\n",
       "  <thead>\n",
       "    <tr style=\"text-align: right;\">\n",
       "      <th></th>\n",
       "      <th>a</th>\n",
       "      <th>b</th>\n",
       "      <th>media</th>\n",
       "      <th>iterações</th>\n",
       "    </tr>\n",
       "  </thead>\n",
       "  <tbody>\n",
       "    <tr>\n",
       "      <th>0</th>\n",
       "      <td>-1.0</td>\n",
       "      <td>4.0</td>\n",
       "      <td>3.604492</td>\n",
       "      <td>9.0</td>\n",
       "    </tr>\n",
       "    <tr>\n",
       "      <th>1</th>\n",
       "      <td>-1.0</td>\n",
       "      <td>5.0</td>\n",
       "      <td>3.602539</td>\n",
       "      <td>10.0</td>\n",
       "    </tr>\n",
       "    <tr>\n",
       "      <th>2</th>\n",
       "      <td>-1.0</td>\n",
       "      <td>6.0</td>\n",
       "      <td>3.604004</td>\n",
       "      <td>10.0</td>\n",
       "    </tr>\n",
       "    <tr>\n",
       "      <th>3</th>\n",
       "      <td>-1.0</td>\n",
       "      <td>7.0</td>\n",
       "      <td>3.605469</td>\n",
       "      <td>10.0</td>\n",
       "    </tr>\n",
       "    <tr>\n",
       "      <th>4</th>\n",
       "      <td>-2.0</td>\n",
       "      <td>4.0</td>\n",
       "      <td>3.604492</td>\n",
       "      <td>10.0</td>\n",
       "    </tr>\n",
       "    <tr>\n",
       "      <th>5</th>\n",
       "      <td>-2.0</td>\n",
       "      <td>5.0</td>\n",
       "      <td>3.602051</td>\n",
       "      <td>10.0</td>\n",
       "    </tr>\n",
       "    <tr>\n",
       "      <th>6</th>\n",
       "      <td>-2.0</td>\n",
       "      <td>6.0</td>\n",
       "      <td>3.605469</td>\n",
       "      <td>10.0</td>\n",
       "    </tr>\n",
       "    <tr>\n",
       "      <th>7</th>\n",
       "      <td>-2.0</td>\n",
       "      <td>7.0</td>\n",
       "      <td>3.603027</td>\n",
       "      <td>10.0</td>\n",
       "    </tr>\n",
       "    <tr>\n",
       "      <th>8</th>\n",
       "      <td>-3.0</td>\n",
       "      <td>4.0</td>\n",
       "      <td>3.606934</td>\n",
       "      <td>10.0</td>\n",
       "    </tr>\n",
       "    <tr>\n",
       "      <th>9</th>\n",
       "      <td>-3.0</td>\n",
       "      <td>5.0</td>\n",
       "      <td>3.605469</td>\n",
       "      <td>10.0</td>\n",
       "    </tr>\n",
       "    <tr>\n",
       "      <th>10</th>\n",
       "      <td>-3.0</td>\n",
       "      <td>6.0</td>\n",
       "      <td>3.604980</td>\n",
       "      <td>10.0</td>\n",
       "    </tr>\n",
       "    <tr>\n",
       "      <th>11</th>\n",
       "      <td>-3.0</td>\n",
       "      <td>7.0</td>\n",
       "      <td>3.606445</td>\n",
       "      <td>10.0</td>\n",
       "    </tr>\n",
       "    <tr>\n",
       "      <th>12</th>\n",
       "      <td>-4.0</td>\n",
       "      <td>4.0</td>\n",
       "      <td>3.605469</td>\n",
       "      <td>10.0</td>\n",
       "    </tr>\n",
       "    <tr>\n",
       "      <th>13</th>\n",
       "      <td>-4.0</td>\n",
       "      <td>5.0</td>\n",
       "      <td>3.606934</td>\n",
       "      <td>10.0</td>\n",
       "    </tr>\n",
       "    <tr>\n",
       "      <th>14</th>\n",
       "      <td>-4.0</td>\n",
       "      <td>6.0</td>\n",
       "      <td>3.602539</td>\n",
       "      <td>10.0</td>\n",
       "    </tr>\n",
       "    <tr>\n",
       "      <th>15</th>\n",
       "      <td>-4.0</td>\n",
       "      <td>7.0</td>\n",
       "      <td>3.602783</td>\n",
       "      <td>11.0</td>\n",
       "    </tr>\n",
       "  </tbody>\n",
       "</table>\n",
       "</div>"
      ],
      "text/plain": [
       "      a    b     media  iterações\n",
       "0  -1.0  4.0  3.604492        9.0\n",
       "1  -1.0  5.0  3.602539       10.0\n",
       "2  -1.0  6.0  3.604004       10.0\n",
       "3  -1.0  7.0  3.605469       10.0\n",
       "4  -2.0  4.0  3.604492       10.0\n",
       "5  -2.0  5.0  3.602051       10.0\n",
       "6  -2.0  6.0  3.605469       10.0\n",
       "7  -2.0  7.0  3.603027       10.0\n",
       "8  -3.0  4.0  3.606934       10.0\n",
       "9  -3.0  5.0  3.605469       10.0\n",
       "10 -3.0  6.0  3.604980       10.0\n",
       "11 -3.0  7.0  3.606445       10.0\n",
       "12 -4.0  4.0  3.605469       10.0\n",
       "13 -4.0  5.0  3.606934       10.0\n",
       "14 -4.0  6.0  3.602539       10.0\n",
       "15 -4.0  7.0  3.602783       11.0"
      ]
     },
     "execution_count": 12,
     "metadata": {},
     "output_type": "execute_result"
    }
   ],
   "source": [
    "gera_tabela_bissec([-1,-5],[4,8])"
   ]
  },
  {
   "cell_type": "code",
   "execution_count": 13,
   "metadata": {},
   "outputs": [
    {
     "data": {
      "text/html": [
       "<div>\n",
       "<style scoped>\n",
       "    .dataframe tbody tr th:only-of-type {\n",
       "        vertical-align: middle;\n",
       "    }\n",
       "\n",
       "    .dataframe tbody tr th {\n",
       "        vertical-align: top;\n",
       "    }\n",
       "\n",
       "    .dataframe thead th {\n",
       "        text-align: right;\n",
       "    }\n",
       "</style>\n",
       "<table border=\"1\" class=\"dataframe\">\n",
       "  <thead>\n",
       "    <tr style=\"text-align: right;\">\n",
       "      <th></th>\n",
       "      <th>x</th>\n",
       "      <th>media</th>\n",
       "      <th>iteração</th>\n",
       "    </tr>\n",
       "  </thead>\n",
       "  <tbody>\n",
       "    <tr>\n",
       "      <th>0</th>\n",
       "      <td>0.0</td>\n",
       "      <td>0.000000</td>\n",
       "      <td>0.0</td>\n",
       "    </tr>\n",
       "    <tr>\n",
       "      <th>1</th>\n",
       "      <td>1.0</td>\n",
       "      <td>3.603738</td>\n",
       "      <td>3.0</td>\n",
       "    </tr>\n",
       "    <tr>\n",
       "      <th>2</th>\n",
       "      <td>2.0</td>\n",
       "      <td>3.603732</td>\n",
       "      <td>3.0</td>\n",
       "    </tr>\n",
       "    <tr>\n",
       "      <th>3</th>\n",
       "      <td>3.0</td>\n",
       "      <td>3.603739</td>\n",
       "      <td>2.0</td>\n",
       "    </tr>\n",
       "    <tr>\n",
       "      <th>4</th>\n",
       "      <td>4.0</td>\n",
       "      <td>3.613205</td>\n",
       "      <td>1.0</td>\n",
       "    </tr>\n",
       "    <tr>\n",
       "      <th>5</th>\n",
       "      <td>5.0</td>\n",
       "      <td>3.604843</td>\n",
       "      <td>2.0</td>\n",
       "    </tr>\n",
       "    <tr>\n",
       "      <th>6</th>\n",
       "      <td>6.0</td>\n",
       "      <td>3.615578</td>\n",
       "      <td>2.0</td>\n",
       "    </tr>\n",
       "    <tr>\n",
       "      <th>7</th>\n",
       "      <td>7.0</td>\n",
       "      <td>3.603875</td>\n",
       "      <td>3.0</td>\n",
       "    </tr>\n",
       "    <tr>\n",
       "      <th>8</th>\n",
       "      <td>8.0</td>\n",
       "      <td>3.604932</td>\n",
       "      <td>3.0</td>\n",
       "    </tr>\n",
       "    <tr>\n",
       "      <th>9</th>\n",
       "      <td>9.0</td>\n",
       "      <td>3.609756</td>\n",
       "      <td>3.0</td>\n",
       "    </tr>\n",
       "  </tbody>\n",
       "</table>\n",
       "</div>"
      ],
      "text/plain": [
       "     x     media  iteração\n",
       "0  0.0  0.000000       0.0\n",
       "1  1.0  3.603738       3.0\n",
       "2  2.0  3.603732       3.0\n",
       "3  3.0  3.603739       2.0\n",
       "4  4.0  3.613205       1.0\n",
       "5  5.0  3.604843       2.0\n",
       "6  6.0  3.615578       2.0\n",
       "7  7.0  3.603875       3.0\n",
       "8  8.0  3.604932       3.0\n",
       "9  9.0  3.609756       3.0"
      ]
     },
     "execution_count": 13,
     "metadata": {},
     "output_type": "execute_result"
    }
   ],
   "source": [
    "gera_tabela_newton([0,10])"
   ]
  },
  {
   "cell_type": "code",
   "execution_count": null,
   "metadata": {},
   "outputs": [],
   "source": []
  }
 ],
 "metadata": {
  "kernelspec": {
   "display_name": "Python 3",
   "language": "python",
   "name": "python3"
  },
  "language_info": {
   "codemirror_mode": {
    "name": "ipython",
    "version": 3
   },
   "file_extension": ".py",
   "mimetype": "text/x-python",
   "name": "python",
   "nbconvert_exporter": "python",
   "pygments_lexer": "ipython3",
   "version": "3.7.1"
  }
 },
 "nbformat": 4,
 "nbformat_minor": 2
}
